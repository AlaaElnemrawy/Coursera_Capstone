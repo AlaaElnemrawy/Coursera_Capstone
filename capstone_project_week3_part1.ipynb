{
    "nbformat_minor": 1, 
    "cells": [
        {
            "source": "import requests\nimport lxml.html as lh\nimport pandas as pd", 
            "cell_type": "code", 
            "metadata": {}, 
            "outputs": [], 
            "execution_count": 25
        }, 
        {
            "source": "url = 'https://en.wikipedia.org/wiki/List_of_postal_codes_of_Canada:_M'\npage = requests.get(url)", 
            "cell_type": "code", 
            "metadata": {}, 
            "outputs": [], 
            "execution_count": 127
        }, 
        {
            "source": "doc = lh.fromstring(page.content)", 
            "cell_type": "code", 
            "metadata": {}, 
            "outputs": [], 
            "execution_count": 128
        }, 
        {
            "source": "column_names = [] \ncol=[]\ntr_elements = doc.xpath('//tr')\ni=0\nfor t in tr_elements[0]:\n    i+=1\n    name=t.text_content()\n    column_names.append(name.replace('\\n' , ''))\n    col.append((name,[]))", 
            "cell_type": "code", 
            "metadata": {
                "scrolled": true
            }, 
            "outputs": [], 
            "execution_count": 129
        }, 
        {
            "source": "neighborhoods = pd.DataFrame(columns=column_names)\ni", 
            "cell_type": "code", 
            "metadata": {}, 
            "outputs": [
                {
                    "output_type": "execute_result", 
                    "data": {
                        "text/plain": "3"
                    }, 
                    "execution_count": 130, 
                    "metadata": {}
                }
            ], 
            "execution_count": 130
        }, 
        {
            "source": "for j in range(1,289):\n    #T is our j'th row\n    T=tr_elements[j]\n    i=0\n    \n    #Iterate through each element of the row\n    for t in T.iterchildren():\n        data=t.text_content()\n        col[i][1].append(data)\n        i+=1", 
            "cell_type": "code", 
            "metadata": {}, 
            "outputs": [], 
            "execution_count": 131
        }, 
        {
            "source": "[len(C) for (title,C) in col]", 
            "cell_type": "code", 
            "metadata": {}, 
            "outputs": [
                {
                    "output_type": "execute_result", 
                    "data": {
                        "text/plain": "[288, 288, 288]"
                    }, 
                    "execution_count": 132, 
                    "metadata": {}
                }
            ], 
            "execution_count": 132
        }, 
        {
            "source": "Dict={title:column for (title,column) in col}\ndf=pd.DataFrame(Dict)", 
            "cell_type": "code", 
            "metadata": {}, 
            "outputs": [], 
            "execution_count": 133
        }, 
        {
            "source": "df", 
            "cell_type": "code", 
            "metadata": {}, 
            "outputs": [
                {
                    "output_type": "execute_result", 
                    "data": {
                        "text/plain": "              Borough                                    Neighbourhood\\n  \\\n0        Not assigned                                     Not assigned\\n   \n1        Not assigned                                     Not assigned\\n   \n2          North York                                        Parkwoods\\n   \n3          North York                                 Victoria Village\\n   \n4    Downtown Toronto                                     Harbourfront\\n   \n5    Downtown Toronto                                      Regent Park\\n   \n6          North York                                 Lawrence Heights\\n   \n7          North York                                   Lawrence Manor\\n   \n8        Queen's Park                                     Not assigned\\n   \n9        Not assigned                                     Not assigned\\n   \n10          Etobicoke                                 Islington Avenue\\n   \n11        Scarborough                                            Rouge\\n   \n12        Scarborough                                          Malvern\\n   \n13       Not assigned                                     Not assigned\\n   \n14         North York                                  Don Mills North\\n   \n15          East York                                 Woodbine Gardens\\n   \n16          East York                                    Parkview Hill\\n   \n17   Downtown Toronto                                          Ryerson\\n   \n18   Downtown Toronto                                  Garden District\\n   \n19         North York                                        Glencairn\\n   \n20       Not assigned                                     Not assigned\\n   \n21       Not assigned                                     Not assigned\\n   \n22          Etobicoke                                       Cloverdale\\n   \n23          Etobicoke                                        Islington\\n   \n24          Etobicoke                                     Martin Grove\\n   \n25          Etobicoke                                 Princess Gardens\\n   \n26          Etobicoke                                  West Deane Park\\n   \n27        Scarborough                                   Highland Creek\\n   \n28        Scarborough                                       Rouge Hill\\n   \n29        Scarborough                                       Port Union\\n   \n..                ...                                                ...   \n258      Not assigned                                     Not assigned\\n   \n259      Not assigned                                     Not assigned\\n   \n260      Not assigned                                     Not assigned\\n   \n261      Not assigned                                     Not assigned\\n   \n262  Downtown Toronto                             Church and Wellesley\\n   \n263      Not assigned                                     Not assigned\\n   \n264      Not assigned                                     Not assigned\\n   \n265      East Toronto  Business Reply Mail Processing Centre 969 East...   \n266         Etobicoke                                       Humber Bay\\n   \n267         Etobicoke                                 King's Mill Park\\n   \n268         Etobicoke                         Kingsway Park South East\\n   \n269         Etobicoke                                        Mimico NE\\n   \n270         Etobicoke                                   Old Mill South\\n   \n271         Etobicoke                               The Queensway East\\n   \n272         Etobicoke                            Royal York South East\\n   \n273         Etobicoke                                         Sunnylea\\n   \n274      Not assigned                                     Not assigned\\n   \n275      Not assigned                                     Not assigned\\n   \n276      Not assigned                                     Not assigned\\n   \n277      Not assigned                                     Not assigned\\n   \n278      Not assigned                                     Not assigned\\n   \n279      Not assigned                                     Not assigned\\n   \n280      Not assigned                                     Not assigned\\n   \n281      Not assigned                                     Not assigned\\n   \n282         Etobicoke                         Kingsway Park South West\\n   \n283         Etobicoke                                        Mimico NW\\n   \n284         Etobicoke                               The Queensway West\\n   \n285         Etobicoke                            Royal York South West\\n   \n286         Etobicoke                                   South of Bloor\\n   \n287      Not assigned                                     Not assigned\\n   \n\n    Postcode  \n0        M1A  \n1        M2A  \n2        M3A  \n3        M4A  \n4        M5A  \n5        M5A  \n6        M6A  \n7        M6A  \n8        M7A  \n9        M8A  \n10       M9A  \n11       M1B  \n12       M1B  \n13       M2B  \n14       M3B  \n15       M4B  \n16       M4B  \n17       M5B  \n18       M5B  \n19       M6B  \n20       M7B  \n21       M8B  \n22       M9B  \n23       M9B  \n24       M9B  \n25       M9B  \n26       M9B  \n27       M1C  \n28       M1C  \n29       M1C  \n..       ...  \n258      M9X  \n259      M1Y  \n260      M2Y  \n261      M3Y  \n262      M4Y  \n263      M5Y  \n264      M6Y  \n265      M7Y  \n266      M8Y  \n267      M8Y  \n268      M8Y  \n269      M8Y  \n270      M8Y  \n271      M8Y  \n272      M8Y  \n273      M8Y  \n274      M9Y  \n275      M1Z  \n276      M2Z  \n277      M3Z  \n278      M4Z  \n279      M5Z  \n280      M6Z  \n281      M7Z  \n282      M8Z  \n283      M8Z  \n284      M8Z  \n285      M8Z  \n286      M8Z  \n287      M9Z  \n\n[288 rows x 3 columns]", 
                        "text/html": "<div>\n<style scoped>\n    .dataframe tbody tr th:only-of-type {\n        vertical-align: middle;\n    }\n\n    .dataframe tbody tr th {\n        vertical-align: top;\n    }\n\n    .dataframe thead th {\n        text-align: right;\n    }\n</style>\n<table border=\"1\" class=\"dataframe\">\n  <thead>\n    <tr style=\"text-align: right;\">\n      <th></th>\n      <th>Borough</th>\n      <th>Neighbourhood</th>\n      <th>Postcode</th>\n    </tr>\n  </thead>\n  <tbody>\n    <tr>\n      <th>0</th>\n      <td>Not assigned</td>\n      <td>Not assigned\\n</td>\n      <td>M1A</td>\n    </tr>\n    <tr>\n      <th>1</th>\n      <td>Not assigned</td>\n      <td>Not assigned\\n</td>\n      <td>M2A</td>\n    </tr>\n    <tr>\n      <th>2</th>\n      <td>North York</td>\n      <td>Parkwoods\\n</td>\n      <td>M3A</td>\n    </tr>\n    <tr>\n      <th>3</th>\n      <td>North York</td>\n      <td>Victoria Village\\n</td>\n      <td>M4A</td>\n    </tr>\n    <tr>\n      <th>4</th>\n      <td>Downtown Toronto</td>\n      <td>Harbourfront\\n</td>\n      <td>M5A</td>\n    </tr>\n    <tr>\n      <th>5</th>\n      <td>Downtown Toronto</td>\n      <td>Regent Park\\n</td>\n      <td>M5A</td>\n    </tr>\n    <tr>\n      <th>6</th>\n      <td>North York</td>\n      <td>Lawrence Heights\\n</td>\n      <td>M6A</td>\n    </tr>\n    <tr>\n      <th>7</th>\n      <td>North York</td>\n      <td>Lawrence Manor\\n</td>\n      <td>M6A</td>\n    </tr>\n    <tr>\n      <th>8</th>\n      <td>Queen's Park</td>\n      <td>Not assigned\\n</td>\n      <td>M7A</td>\n    </tr>\n    <tr>\n      <th>9</th>\n      <td>Not assigned</td>\n      <td>Not assigned\\n</td>\n      <td>M8A</td>\n    </tr>\n    <tr>\n      <th>10</th>\n      <td>Etobicoke</td>\n      <td>Islington Avenue\\n</td>\n      <td>M9A</td>\n    </tr>\n    <tr>\n      <th>11</th>\n      <td>Scarborough</td>\n      <td>Rouge\\n</td>\n      <td>M1B</td>\n    </tr>\n    <tr>\n      <th>12</th>\n      <td>Scarborough</td>\n      <td>Malvern\\n</td>\n      <td>M1B</td>\n    </tr>\n    <tr>\n      <th>13</th>\n      <td>Not assigned</td>\n      <td>Not assigned\\n</td>\n      <td>M2B</td>\n    </tr>\n    <tr>\n      <th>14</th>\n      <td>North York</td>\n      <td>Don Mills North\\n</td>\n      <td>M3B</td>\n    </tr>\n    <tr>\n      <th>15</th>\n      <td>East York</td>\n      <td>Woodbine Gardens\\n</td>\n      <td>M4B</td>\n    </tr>\n    <tr>\n      <th>16</th>\n      <td>East York</td>\n      <td>Parkview Hill\\n</td>\n      <td>M4B</td>\n    </tr>\n    <tr>\n      <th>17</th>\n      <td>Downtown Toronto</td>\n      <td>Ryerson\\n</td>\n      <td>M5B</td>\n    </tr>\n    <tr>\n      <th>18</th>\n      <td>Downtown Toronto</td>\n      <td>Garden District\\n</td>\n      <td>M5B</td>\n    </tr>\n    <tr>\n      <th>19</th>\n      <td>North York</td>\n      <td>Glencairn\\n</td>\n      <td>M6B</td>\n    </tr>\n    <tr>\n      <th>20</th>\n      <td>Not assigned</td>\n      <td>Not assigned\\n</td>\n      <td>M7B</td>\n    </tr>\n    <tr>\n      <th>21</th>\n      <td>Not assigned</td>\n      <td>Not assigned\\n</td>\n      <td>M8B</td>\n    </tr>\n    <tr>\n      <th>22</th>\n      <td>Etobicoke</td>\n      <td>Cloverdale\\n</td>\n      <td>M9B</td>\n    </tr>\n    <tr>\n      <th>23</th>\n      <td>Etobicoke</td>\n      <td>Islington\\n</td>\n      <td>M9B</td>\n    </tr>\n    <tr>\n      <th>24</th>\n      <td>Etobicoke</td>\n      <td>Martin Grove\\n</td>\n      <td>M9B</td>\n    </tr>\n    <tr>\n      <th>25</th>\n      <td>Etobicoke</td>\n      <td>Princess Gardens\\n</td>\n      <td>M9B</td>\n    </tr>\n    <tr>\n      <th>26</th>\n      <td>Etobicoke</td>\n      <td>West Deane Park\\n</td>\n      <td>M9B</td>\n    </tr>\n    <tr>\n      <th>27</th>\n      <td>Scarborough</td>\n      <td>Highland Creek\\n</td>\n      <td>M1C</td>\n    </tr>\n    <tr>\n      <th>28</th>\n      <td>Scarborough</td>\n      <td>Rouge Hill\\n</td>\n      <td>M1C</td>\n    </tr>\n    <tr>\n      <th>29</th>\n      <td>Scarborough</td>\n      <td>Port Union\\n</td>\n      <td>M1C</td>\n    </tr>\n    <tr>\n      <th>...</th>\n      <td>...</td>\n      <td>...</td>\n      <td>...</td>\n    </tr>\n    <tr>\n      <th>258</th>\n      <td>Not assigned</td>\n      <td>Not assigned\\n</td>\n      <td>M9X</td>\n    </tr>\n    <tr>\n      <th>259</th>\n      <td>Not assigned</td>\n      <td>Not assigned\\n</td>\n      <td>M1Y</td>\n    </tr>\n    <tr>\n      <th>260</th>\n      <td>Not assigned</td>\n      <td>Not assigned\\n</td>\n      <td>M2Y</td>\n    </tr>\n    <tr>\n      <th>261</th>\n      <td>Not assigned</td>\n      <td>Not assigned\\n</td>\n      <td>M3Y</td>\n    </tr>\n    <tr>\n      <th>262</th>\n      <td>Downtown Toronto</td>\n      <td>Church and Wellesley\\n</td>\n      <td>M4Y</td>\n    </tr>\n    <tr>\n      <th>263</th>\n      <td>Not assigned</td>\n      <td>Not assigned\\n</td>\n      <td>M5Y</td>\n    </tr>\n    <tr>\n      <th>264</th>\n      <td>Not assigned</td>\n      <td>Not assigned\\n</td>\n      <td>M6Y</td>\n    </tr>\n    <tr>\n      <th>265</th>\n      <td>East Toronto</td>\n      <td>Business Reply Mail Processing Centre 969 East...</td>\n      <td>M7Y</td>\n    </tr>\n    <tr>\n      <th>266</th>\n      <td>Etobicoke</td>\n      <td>Humber Bay\\n</td>\n      <td>M8Y</td>\n    </tr>\n    <tr>\n      <th>267</th>\n      <td>Etobicoke</td>\n      <td>King's Mill Park\\n</td>\n      <td>M8Y</td>\n    </tr>\n    <tr>\n      <th>268</th>\n      <td>Etobicoke</td>\n      <td>Kingsway Park South East\\n</td>\n      <td>M8Y</td>\n    </tr>\n    <tr>\n      <th>269</th>\n      <td>Etobicoke</td>\n      <td>Mimico NE\\n</td>\n      <td>M8Y</td>\n    </tr>\n    <tr>\n      <th>270</th>\n      <td>Etobicoke</td>\n      <td>Old Mill South\\n</td>\n      <td>M8Y</td>\n    </tr>\n    <tr>\n      <th>271</th>\n      <td>Etobicoke</td>\n      <td>The Queensway East\\n</td>\n      <td>M8Y</td>\n    </tr>\n    <tr>\n      <th>272</th>\n      <td>Etobicoke</td>\n      <td>Royal York South East\\n</td>\n      <td>M8Y</td>\n    </tr>\n    <tr>\n      <th>273</th>\n      <td>Etobicoke</td>\n      <td>Sunnylea\\n</td>\n      <td>M8Y</td>\n    </tr>\n    <tr>\n      <th>274</th>\n      <td>Not assigned</td>\n      <td>Not assigned\\n</td>\n      <td>M9Y</td>\n    </tr>\n    <tr>\n      <th>275</th>\n      <td>Not assigned</td>\n      <td>Not assigned\\n</td>\n      <td>M1Z</td>\n    </tr>\n    <tr>\n      <th>276</th>\n      <td>Not assigned</td>\n      <td>Not assigned\\n</td>\n      <td>M2Z</td>\n    </tr>\n    <tr>\n      <th>277</th>\n      <td>Not assigned</td>\n      <td>Not assigned\\n</td>\n      <td>M3Z</td>\n    </tr>\n    <tr>\n      <th>278</th>\n      <td>Not assigned</td>\n      <td>Not assigned\\n</td>\n      <td>M4Z</td>\n    </tr>\n    <tr>\n      <th>279</th>\n      <td>Not assigned</td>\n      <td>Not assigned\\n</td>\n      <td>M5Z</td>\n    </tr>\n    <tr>\n      <th>280</th>\n      <td>Not assigned</td>\n      <td>Not assigned\\n</td>\n      <td>M6Z</td>\n    </tr>\n    <tr>\n      <th>281</th>\n      <td>Not assigned</td>\n      <td>Not assigned\\n</td>\n      <td>M7Z</td>\n    </tr>\n    <tr>\n      <th>282</th>\n      <td>Etobicoke</td>\n      <td>Kingsway Park South West\\n</td>\n      <td>M8Z</td>\n    </tr>\n    <tr>\n      <th>283</th>\n      <td>Etobicoke</td>\n      <td>Mimico NW\\n</td>\n      <td>M8Z</td>\n    </tr>\n    <tr>\n      <th>284</th>\n      <td>Etobicoke</td>\n      <td>The Queensway West\\n</td>\n      <td>M8Z</td>\n    </tr>\n    <tr>\n      <th>285</th>\n      <td>Etobicoke</td>\n      <td>Royal York South West\\n</td>\n      <td>M8Z</td>\n    </tr>\n    <tr>\n      <th>286</th>\n      <td>Etobicoke</td>\n      <td>South of Bloor\\n</td>\n      <td>M8Z</td>\n    </tr>\n    <tr>\n      <th>287</th>\n      <td>Not assigned</td>\n      <td>Not assigned\\n</td>\n      <td>M9Z</td>\n    </tr>\n  </tbody>\n</table>\n<p>288 rows \u00d7 3 columns</p>\n</div>"
                    }, 
                    "execution_count": 134, 
                    "metadata": {}
                }
            ], 
            "execution_count": 134
        }, 
        {
            "source": "", 
            "cell_type": "code", 
            "metadata": {}, 
            "outputs": [], 
            "execution_count": null
        }
    ], 
    "metadata": {
        "kernelspec": {
            "display_name": "Python 3.5", 
            "name": "python3", 
            "language": "python"
        }, 
        "language_info": {
            "mimetype": "text/x-python", 
            "nbconvert_exporter": "python", 
            "version": "3.5.5", 
            "name": "python", 
            "pygments_lexer": "ipython3", 
            "file_extension": ".py", 
            "codemirror_mode": {
                "version": 3, 
                "name": "ipython"
            }
        }
    }, 
    "nbformat": 4
}