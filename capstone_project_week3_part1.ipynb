{
    "nbformat_minor": 1, 
    "cells": [
        {
            "source": "import requests\nimport lxml.html as lh\nimport pandas as pd", 
            "cell_type": "code", 
            "metadata": {}, 
            "outputs": [], 
            "execution_count": 144
        }, 
        {
            "source": "url = 'https://en.wikipedia.org/wiki/List_of_postal_codes_of_Canada:_M'\npage = requests.get(url)", 
            "cell_type": "code", 
            "metadata": {}, 
            "outputs": [], 
            "execution_count": 145
        }, 
        {
            "source": "doc = lh.fromstring(page.content)", 
            "cell_type": "code", 
            "metadata": {}, 
            "outputs": [], 
            "execution_count": 146
        }, 
        {
            "source": "col=[]\ntr_elements = doc.xpath('//tr')\ni=0\nfor t in tr_elements[0]:\n    i+=1\n    name=t.text_content()\n    col.append((name,[]))", 
            "cell_type": "code", 
            "metadata": {
                "scrolled": true
            }, 
            "outputs": [], 
            "execution_count": 147
        }, 
        {
            "source": "for j in range(1,289):\n    #T is our j'th row\n    T=tr_elements[j]\n    i=0\n    \n    #Iterate through each element of the row\n    for t in T.iterchildren():\n        data=t.text_content()\n        col[i][1].append(data)\n        i+=1", 
            "cell_type": "code", 
            "metadata": {}, 
            "outputs": [], 
            "execution_count": 148
        }, 
        {
            "source": "[len(C) for (title,C) in col]", 
            "cell_type": "code", 
            "metadata": {}, 
            "outputs": [
                {
                    "output_type": "execute_result", 
                    "data": {
                        "text/plain": "[288, 288, 288]"
                    }, 
                    "execution_count": 149, 
                    "metadata": {}
                }
            ], 
            "execution_count": 149
        }, 
        {
            "source": "Dict={title:column for (title,column) in col}\ndf=pd.DataFrame(Dict)", 
            "cell_type": "code", 
            "metadata": {}, 
            "outputs": [], 
            "execution_count": 150
        }, 
        {
            "source": "df.head()", 
            "cell_type": "code", 
            "metadata": {}, 
            "outputs": [
                {
                    "output_type": "execute_result", 
                    "data": {
                        "text/plain": "            Borough     Neighbourhood\\n Postcode\n0      Not assigned      Not assigned\\n      M1A\n1      Not assigned      Not assigned\\n      M2A\n2        North York         Parkwoods\\n      M3A\n3        North York  Victoria Village\\n      M4A\n4  Downtown Toronto      Harbourfront\\n      M5A", 
                        "text/html": "<div>\n<style scoped>\n    .dataframe tbody tr th:only-of-type {\n        vertical-align: middle;\n    }\n\n    .dataframe tbody tr th {\n        vertical-align: top;\n    }\n\n    .dataframe thead th {\n        text-align: right;\n    }\n</style>\n<table border=\"1\" class=\"dataframe\">\n  <thead>\n    <tr style=\"text-align: right;\">\n      <th></th>\n      <th>Borough</th>\n      <th>Neighbourhood</th>\n      <th>Postcode</th>\n    </tr>\n  </thead>\n  <tbody>\n    <tr>\n      <th>0</th>\n      <td>Not assigned</td>\n      <td>Not assigned\\n</td>\n      <td>M1A</td>\n    </tr>\n    <tr>\n      <th>1</th>\n      <td>Not assigned</td>\n      <td>Not assigned\\n</td>\n      <td>M2A</td>\n    </tr>\n    <tr>\n      <th>2</th>\n      <td>North York</td>\n      <td>Parkwoods\\n</td>\n      <td>M3A</td>\n    </tr>\n    <tr>\n      <th>3</th>\n      <td>North York</td>\n      <td>Victoria Village\\n</td>\n      <td>M4A</td>\n    </tr>\n    <tr>\n      <th>4</th>\n      <td>Downtown Toronto</td>\n      <td>Harbourfront\\n</td>\n      <td>M5A</td>\n    </tr>\n  </tbody>\n</table>\n</div>"
                    }, 
                    "execution_count": 143, 
                    "metadata": {}
                }
            ], 
            "execution_count": 143
        }, 
        {
            "source": "fixed_columns = [df.columns[-1]] + list(df.columns[:-1])\ndf = df[fixed_columns]\ndf = df[df['Borough'] != 'Not assigned' ]\ndf", 
            "cell_type": "code", 
            "metadata": {}, 
            "outputs": [
                {
                    "output_type": "execute_result", 
                    "data": {
                        "text/plain": "    Postcode           Borough  \\\n2        M3A        North York   \n3        M4A        North York   \n4        M5A  Downtown Toronto   \n5        M5A  Downtown Toronto   \n6        M6A        North York   \n7        M6A        North York   \n8        M7A      Queen's Park   \n10       M9A         Etobicoke   \n11       M1B       Scarborough   \n12       M1B       Scarborough   \n14       M3B        North York   \n15       M4B         East York   \n16       M4B         East York   \n17       M5B  Downtown Toronto   \n18       M5B  Downtown Toronto   \n19       M6B        North York   \n22       M9B         Etobicoke   \n23       M9B         Etobicoke   \n24       M9B         Etobicoke   \n25       M9B         Etobicoke   \n26       M9B         Etobicoke   \n27       M1C       Scarborough   \n28       M1C       Scarborough   \n29       M1C       Scarborough   \n31       M3C        North York   \n32       M3C        North York   \n33       M4C         East York   \n34       M5C  Downtown Toronto   \n35       M6C              York   \n38       M9C         Etobicoke   \n..       ...               ...   \n235      M9V         Etobicoke   \n236      M1W       Scarborough   \n239      M4W  Downtown Toronto   \n240      M5W  Downtown Toronto   \n243      M8W         Etobicoke   \n244      M8W         Etobicoke   \n245      M9W         Etobicoke   \n246      M1X       Scarborough   \n249      M4X  Downtown Toronto   \n250      M4X  Downtown Toronto   \n251      M5X  Downtown Toronto   \n252      M5X  Downtown Toronto   \n255      M8X         Etobicoke   \n256      M8X         Etobicoke   \n257      M8X         Etobicoke   \n262      M4Y  Downtown Toronto   \n265      M7Y      East Toronto   \n266      M8Y         Etobicoke   \n267      M8Y         Etobicoke   \n268      M8Y         Etobicoke   \n269      M8Y         Etobicoke   \n270      M8Y         Etobicoke   \n271      M8Y         Etobicoke   \n272      M8Y         Etobicoke   \n273      M8Y         Etobicoke   \n282      M8Z         Etobicoke   \n283      M8Z         Etobicoke   \n284      M8Z         Etobicoke   \n285      M8Z         Etobicoke   \n286      M8Z         Etobicoke   \n\n                                       Neighbourhood\\n  \n2                                          Parkwoods\\n  \n3                                   Victoria Village\\n  \n4                                       Harbourfront\\n  \n5                                        Regent Park\\n  \n6                                   Lawrence Heights\\n  \n7                                     Lawrence Manor\\n  \n8                                       Not assigned\\n  \n10                                  Islington Avenue\\n  \n11                                             Rouge\\n  \n12                                           Malvern\\n  \n14                                   Don Mills North\\n  \n15                                  Woodbine Gardens\\n  \n16                                     Parkview Hill\\n  \n17                                           Ryerson\\n  \n18                                   Garden District\\n  \n19                                         Glencairn\\n  \n22                                        Cloverdale\\n  \n23                                         Islington\\n  \n24                                      Martin Grove\\n  \n25                                  Princess Gardens\\n  \n26                                   West Deane Park\\n  \n27                                    Highland Creek\\n  \n28                                        Rouge Hill\\n  \n29                                        Port Union\\n  \n31                                   Flemingdon Park\\n  \n32                                   Don Mills South\\n  \n33                                  Woodbine Heights\\n  \n34                                    St. James Town\\n  \n35                                Humewood-Cedarvale\\n  \n38                                 Bloordale Gardens\\n  \n..                                                 ...  \n235                                      Thistletown\\n  \n236                                  L'Amoreaux West\\n  \n239                                         Rosedale\\n  \n240                  Stn A PO Boxes 25 The Esplanade\\n  \n243                                        Alderwood\\n  \n244                                      Long Branch\\n  \n245                                        Northwest\\n  \n246                                      Upper Rouge\\n  \n249                                      Cabbagetown\\n  \n250                                   St. James Town\\n  \n251                             First Canadian Place\\n  \n252                                 Underground city\\n  \n255                                     The Kingsway\\n  \n256                                  Montgomery Road\\n  \n257                                   Old Mill North\\n  \n262                             Church and Wellesley\\n  \n265  Business Reply Mail Processing Centre 969 East...  \n266                                       Humber Bay\\n  \n267                                 King's Mill Park\\n  \n268                         Kingsway Park South East\\n  \n269                                        Mimico NE\\n  \n270                                   Old Mill South\\n  \n271                               The Queensway East\\n  \n272                            Royal York South East\\n  \n273                                         Sunnylea\\n  \n282                         Kingsway Park South West\\n  \n283                                        Mimico NW\\n  \n284                               The Queensway West\\n  \n285                            Royal York South West\\n  \n286                                   South of Bloor\\n  \n\n[211 rows x 3 columns]", 
                        "text/html": "<div>\n<style scoped>\n    .dataframe tbody tr th:only-of-type {\n        vertical-align: middle;\n    }\n\n    .dataframe tbody tr th {\n        vertical-align: top;\n    }\n\n    .dataframe thead th {\n        text-align: right;\n    }\n</style>\n<table border=\"1\" class=\"dataframe\">\n  <thead>\n    <tr style=\"text-align: right;\">\n      <th></th>\n      <th>Postcode</th>\n      <th>Borough</th>\n      <th>Neighbourhood</th>\n    </tr>\n  </thead>\n  <tbody>\n    <tr>\n      <th>2</th>\n      <td>M3A</td>\n      <td>North York</td>\n      <td>Parkwoods\\n</td>\n    </tr>\n    <tr>\n      <th>3</th>\n      <td>M4A</td>\n      <td>North York</td>\n      <td>Victoria Village\\n</td>\n    </tr>\n    <tr>\n      <th>4</th>\n      <td>M5A</td>\n      <td>Downtown Toronto</td>\n      <td>Harbourfront\\n</td>\n    </tr>\n    <tr>\n      <th>5</th>\n      <td>M5A</td>\n      <td>Downtown Toronto</td>\n      <td>Regent Park\\n</td>\n    </tr>\n    <tr>\n      <th>6</th>\n      <td>M6A</td>\n      <td>North York</td>\n      <td>Lawrence Heights\\n</td>\n    </tr>\n    <tr>\n      <th>7</th>\n      <td>M6A</td>\n      <td>North York</td>\n      <td>Lawrence Manor\\n</td>\n    </tr>\n    <tr>\n      <th>8</th>\n      <td>M7A</td>\n      <td>Queen's Park</td>\n      <td>Not assigned\\n</td>\n    </tr>\n    <tr>\n      <th>10</th>\n      <td>M9A</td>\n      <td>Etobicoke</td>\n      <td>Islington Avenue\\n</td>\n    </tr>\n    <tr>\n      <th>11</th>\n      <td>M1B</td>\n      <td>Scarborough</td>\n      <td>Rouge\\n</td>\n    </tr>\n    <tr>\n      <th>12</th>\n      <td>M1B</td>\n      <td>Scarborough</td>\n      <td>Malvern\\n</td>\n    </tr>\n    <tr>\n      <th>14</th>\n      <td>M3B</td>\n      <td>North York</td>\n      <td>Don Mills North\\n</td>\n    </tr>\n    <tr>\n      <th>15</th>\n      <td>M4B</td>\n      <td>East York</td>\n      <td>Woodbine Gardens\\n</td>\n    </tr>\n    <tr>\n      <th>16</th>\n      <td>M4B</td>\n      <td>East York</td>\n      <td>Parkview Hill\\n</td>\n    </tr>\n    <tr>\n      <th>17</th>\n      <td>M5B</td>\n      <td>Downtown Toronto</td>\n      <td>Ryerson\\n</td>\n    </tr>\n    <tr>\n      <th>18</th>\n      <td>M5B</td>\n      <td>Downtown Toronto</td>\n      <td>Garden District\\n</td>\n    </tr>\n    <tr>\n      <th>19</th>\n      <td>M6B</td>\n      <td>North York</td>\n      <td>Glencairn\\n</td>\n    </tr>\n    <tr>\n      <th>22</th>\n      <td>M9B</td>\n      <td>Etobicoke</td>\n      <td>Cloverdale\\n</td>\n    </tr>\n    <tr>\n      <th>23</th>\n      <td>M9B</td>\n      <td>Etobicoke</td>\n      <td>Islington\\n</td>\n    </tr>\n    <tr>\n      <th>24</th>\n      <td>M9B</td>\n      <td>Etobicoke</td>\n      <td>Martin Grove\\n</td>\n    </tr>\n    <tr>\n      <th>25</th>\n      <td>M9B</td>\n      <td>Etobicoke</td>\n      <td>Princess Gardens\\n</td>\n    </tr>\n    <tr>\n      <th>26</th>\n      <td>M9B</td>\n      <td>Etobicoke</td>\n      <td>West Deane Park\\n</td>\n    </tr>\n    <tr>\n      <th>27</th>\n      <td>M1C</td>\n      <td>Scarborough</td>\n      <td>Highland Creek\\n</td>\n    </tr>\n    <tr>\n      <th>28</th>\n      <td>M1C</td>\n      <td>Scarborough</td>\n      <td>Rouge Hill\\n</td>\n    </tr>\n    <tr>\n      <th>29</th>\n      <td>M1C</td>\n      <td>Scarborough</td>\n      <td>Port Union\\n</td>\n    </tr>\n    <tr>\n      <th>31</th>\n      <td>M3C</td>\n      <td>North York</td>\n      <td>Flemingdon Park\\n</td>\n    </tr>\n    <tr>\n      <th>32</th>\n      <td>M3C</td>\n      <td>North York</td>\n      <td>Don Mills South\\n</td>\n    </tr>\n    <tr>\n      <th>33</th>\n      <td>M4C</td>\n      <td>East York</td>\n      <td>Woodbine Heights\\n</td>\n    </tr>\n    <tr>\n      <th>34</th>\n      <td>M5C</td>\n      <td>Downtown Toronto</td>\n      <td>St. James Town\\n</td>\n    </tr>\n    <tr>\n      <th>35</th>\n      <td>M6C</td>\n      <td>York</td>\n      <td>Humewood-Cedarvale\\n</td>\n    </tr>\n    <tr>\n      <th>38</th>\n      <td>M9C</td>\n      <td>Etobicoke</td>\n      <td>Bloordale Gardens\\n</td>\n    </tr>\n    <tr>\n      <th>...</th>\n      <td>...</td>\n      <td>...</td>\n      <td>...</td>\n    </tr>\n    <tr>\n      <th>235</th>\n      <td>M9V</td>\n      <td>Etobicoke</td>\n      <td>Thistletown\\n</td>\n    </tr>\n    <tr>\n      <th>236</th>\n      <td>M1W</td>\n      <td>Scarborough</td>\n      <td>L'Amoreaux West\\n</td>\n    </tr>\n    <tr>\n      <th>239</th>\n      <td>M4W</td>\n      <td>Downtown Toronto</td>\n      <td>Rosedale\\n</td>\n    </tr>\n    <tr>\n      <th>240</th>\n      <td>M5W</td>\n      <td>Downtown Toronto</td>\n      <td>Stn A PO Boxes 25 The Esplanade\\n</td>\n    </tr>\n    <tr>\n      <th>243</th>\n      <td>M8W</td>\n      <td>Etobicoke</td>\n      <td>Alderwood\\n</td>\n    </tr>\n    <tr>\n      <th>244</th>\n      <td>M8W</td>\n      <td>Etobicoke</td>\n      <td>Long Branch\\n</td>\n    </tr>\n    <tr>\n      <th>245</th>\n      <td>M9W</td>\n      <td>Etobicoke</td>\n      <td>Northwest\\n</td>\n    </tr>\n    <tr>\n      <th>246</th>\n      <td>M1X</td>\n      <td>Scarborough</td>\n      <td>Upper Rouge\\n</td>\n    </tr>\n    <tr>\n      <th>249</th>\n      <td>M4X</td>\n      <td>Downtown Toronto</td>\n      <td>Cabbagetown\\n</td>\n    </tr>\n    <tr>\n      <th>250</th>\n      <td>M4X</td>\n      <td>Downtown Toronto</td>\n      <td>St. James Town\\n</td>\n    </tr>\n    <tr>\n      <th>251</th>\n      <td>M5X</td>\n      <td>Downtown Toronto</td>\n      <td>First Canadian Place\\n</td>\n    </tr>\n    <tr>\n      <th>252</th>\n      <td>M5X</td>\n      <td>Downtown Toronto</td>\n      <td>Underground city\\n</td>\n    </tr>\n    <tr>\n      <th>255</th>\n      <td>M8X</td>\n      <td>Etobicoke</td>\n      <td>The Kingsway\\n</td>\n    </tr>\n    <tr>\n      <th>256</th>\n      <td>M8X</td>\n      <td>Etobicoke</td>\n      <td>Montgomery Road\\n</td>\n    </tr>\n    <tr>\n      <th>257</th>\n      <td>M8X</td>\n      <td>Etobicoke</td>\n      <td>Old Mill North\\n</td>\n    </tr>\n    <tr>\n      <th>262</th>\n      <td>M4Y</td>\n      <td>Downtown Toronto</td>\n      <td>Church and Wellesley\\n</td>\n    </tr>\n    <tr>\n      <th>265</th>\n      <td>M7Y</td>\n      <td>East Toronto</td>\n      <td>Business Reply Mail Processing Centre 969 East...</td>\n    </tr>\n    <tr>\n      <th>266</th>\n      <td>M8Y</td>\n      <td>Etobicoke</td>\n      <td>Humber Bay\\n</td>\n    </tr>\n    <tr>\n      <th>267</th>\n      <td>M8Y</td>\n      <td>Etobicoke</td>\n      <td>King's Mill Park\\n</td>\n    </tr>\n    <tr>\n      <th>268</th>\n      <td>M8Y</td>\n      <td>Etobicoke</td>\n      <td>Kingsway Park South East\\n</td>\n    </tr>\n    <tr>\n      <th>269</th>\n      <td>M8Y</td>\n      <td>Etobicoke</td>\n      <td>Mimico NE\\n</td>\n    </tr>\n    <tr>\n      <th>270</th>\n      <td>M8Y</td>\n      <td>Etobicoke</td>\n      <td>Old Mill South\\n</td>\n    </tr>\n    <tr>\n      <th>271</th>\n      <td>M8Y</td>\n      <td>Etobicoke</td>\n      <td>The Queensway East\\n</td>\n    </tr>\n    <tr>\n      <th>272</th>\n      <td>M8Y</td>\n      <td>Etobicoke</td>\n      <td>Royal York South East\\n</td>\n    </tr>\n    <tr>\n      <th>273</th>\n      <td>M8Y</td>\n      <td>Etobicoke</td>\n      <td>Sunnylea\\n</td>\n    </tr>\n    <tr>\n      <th>282</th>\n      <td>M8Z</td>\n      <td>Etobicoke</td>\n      <td>Kingsway Park South West\\n</td>\n    </tr>\n    <tr>\n      <th>283</th>\n      <td>M8Z</td>\n      <td>Etobicoke</td>\n      <td>Mimico NW\\n</td>\n    </tr>\n    <tr>\n      <th>284</th>\n      <td>M8Z</td>\n      <td>Etobicoke</td>\n      <td>The Queensway West\\n</td>\n    </tr>\n    <tr>\n      <th>285</th>\n      <td>M8Z</td>\n      <td>Etobicoke</td>\n      <td>Royal York South West\\n</td>\n    </tr>\n    <tr>\n      <th>286</th>\n      <td>M8Z</td>\n      <td>Etobicoke</td>\n      <td>South of Bloor\\n</td>\n    </tr>\n  </tbody>\n</table>\n<p>211 rows \u00d7 3 columns</p>\n</div>"
                    }, 
                    "execution_count": 154, 
                    "metadata": {}
                }
            ], 
            "execution_count": 154
        }, 
        {
            "source": "", 
            "cell_type": "code", 
            "metadata": {}, 
            "outputs": [], 
            "execution_count": null
        }
    ], 
    "metadata": {
        "kernelspec": {
            "display_name": "Python 3.5", 
            "name": "python3", 
            "language": "python"
        }, 
        "language_info": {
            "mimetype": "text/x-python", 
            "nbconvert_exporter": "python", 
            "version": "3.5.5", 
            "name": "python", 
            "pygments_lexer": "ipython3", 
            "file_extension": ".py", 
            "codemirror_mode": {
                "version": 3, 
                "name": "ipython"
            }
        }
    }, 
    "nbformat": 4
}